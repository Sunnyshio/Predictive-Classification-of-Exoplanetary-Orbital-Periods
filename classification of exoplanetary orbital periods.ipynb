{
 "cells": [
  {
   "cell_type": "markdown",
   "metadata": {},
   "source": [
    "### Importing libraries"
   ]
  },
  {
   "cell_type": "code",
   "execution_count": 1,
   "metadata": {
    "id": "JfPpFW2GshR0"
   },
   "outputs": [],
   "source": [
    "import pandas as pd\n",
    "import matplotlib.pyplot as plt\n",
    "import seaborn as sns\n",
    "import numpy as np\n",
    "from statsmodels.stats.outliers_influence import variance_inflation_factor\n",
    "from sklearn.preprocessing import StandardScaler\n",
    "scale = StandardScaler()\n",
    "from sklearn.model_selection import train_test_split\n",
    "from sklearn.linear_model import LogisticRegression\n",
    "from sklearn.model_selection import GridSearchCV"
   ]
  },
  {
   "cell_type": "markdown",
   "metadata": {},
   "source": [
    "### Importing dataset"
   ]
  },
  {
   "cell_type": "code",
   "execution_count": 2,
   "metadata": {},
   "outputs": [
    {
     "data": {
      "text/html": [
       "<div>\n",
       "<style scoped>\n",
       "    .dataframe tbody tr th:only-of-type {\n",
       "        vertical-align: middle;\n",
       "    }\n",
       "\n",
       "    .dataframe tbody tr th {\n",
       "        vertical-align: top;\n",
       "    }\n",
       "\n",
       "    .dataframe thead th {\n",
       "        text-align: right;\n",
       "    }\n",
       "</style>\n",
       "<table border=\"1\" class=\"dataframe\">\n",
       "  <thead>\n",
       "    <tr style=\"text-align: right;\">\n",
       "      <th></th>\n",
       "      <th>semi-major axis</th>\n",
       "      <th>eccentricity</th>\n",
       "      <th>stellar mass</th>\n",
       "      <th>stellar temperature</th>\n",
       "      <th>orbital period</th>\n",
       "    </tr>\n",
       "  </thead>\n",
       "  <tbody>\n",
       "    <tr>\n",
       "      <th>0</th>\n",
       "      <td>1.290000</td>\n",
       "      <td>0.23100</td>\n",
       "      <td>2.70</td>\n",
       "      <td>4742.0</td>\n",
       "      <td>326.030000</td>\n",
       "    </tr>\n",
       "    <tr>\n",
       "      <th>1</th>\n",
       "      <td>1.540000</td>\n",
       "      <td>0.08000</td>\n",
       "      <td>1.80</td>\n",
       "      <td>4340.0</td>\n",
       "      <td>516.220000</td>\n",
       "    </tr>\n",
       "    <tr>\n",
       "      <th>2</th>\n",
       "      <td>0.830000</td>\n",
       "      <td>0.00000</td>\n",
       "      <td>2.20</td>\n",
       "      <td>4813.0</td>\n",
       "      <td>185.840000</td>\n",
       "    </tr>\n",
       "    <tr>\n",
       "      <th>3</th>\n",
       "      <td>2.770000</td>\n",
       "      <td>0.36900</td>\n",
       "      <td>0.90</td>\n",
       "      <td>5311.0</td>\n",
       "      <td>1773.400000</td>\n",
       "    </tr>\n",
       "    <tr>\n",
       "      <th>4</th>\n",
       "      <td>1.681000</td>\n",
       "      <td>0.68100</td>\n",
       "      <td>0.99</td>\n",
       "      <td>5674.0</td>\n",
       "      <td>798.500000</td>\n",
       "    </tr>\n",
       "    <tr>\n",
       "      <th>...</th>\n",
       "      <td>...</td>\n",
       "      <td>...</td>\n",
       "      <td>...</td>\n",
       "      <td>...</td>\n",
       "      <td>...</td>\n",
       "    </tr>\n",
       "    <tr>\n",
       "      <th>3367</th>\n",
       "      <td>0.059222</td>\n",
       "      <td>0.02150</td>\n",
       "      <td>1.30</td>\n",
       "      <td>NaN</td>\n",
       "      <td>4.617033</td>\n",
       "    </tr>\n",
       "    <tr>\n",
       "      <th>3368</th>\n",
       "      <td>0.827774</td>\n",
       "      <td>0.25960</td>\n",
       "      <td>1.30</td>\n",
       "      <td>NaN</td>\n",
       "      <td>241.258000</td>\n",
       "    </tr>\n",
       "    <tr>\n",
       "      <th>3369</th>\n",
       "      <td>2.513290</td>\n",
       "      <td>0.29870</td>\n",
       "      <td>1.30</td>\n",
       "      <td>NaN</td>\n",
       "      <td>1276.460000</td>\n",
       "    </tr>\n",
       "    <tr>\n",
       "      <th>3370</th>\n",
       "      <td>5.245580</td>\n",
       "      <td>0.00536</td>\n",
       "      <td>1.30</td>\n",
       "      <td>NaN</td>\n",
       "      <td>3848.860000</td>\n",
       "    </tr>\n",
       "    <tr>\n",
       "      <th>3371</th>\n",
       "      <td>0.680000</td>\n",
       "      <td>0.00000</td>\n",
       "      <td>2.20</td>\n",
       "      <td>4780.0</td>\n",
       "      <td>136.750000</td>\n",
       "    </tr>\n",
       "  </tbody>\n",
       "</table>\n",
       "<p>974 rows × 5 columns</p>\n",
       "</div>"
      ],
      "text/plain": [
       "      semi-major axis  eccentricity  stellar mass  stellar temperature  \\\n",
       "0            1.290000       0.23100          2.70               4742.0   \n",
       "1            1.540000       0.08000          1.80               4340.0   \n",
       "2            0.830000       0.00000          2.20               4813.0   \n",
       "3            2.770000       0.36900          0.90               5311.0   \n",
       "4            1.681000       0.68100          0.99               5674.0   \n",
       "...               ...           ...           ...                  ...   \n",
       "3367         0.059222       0.02150          1.30                  NaN   \n",
       "3368         0.827774       0.25960          1.30                  NaN   \n",
       "3369         2.513290       0.29870          1.30                  NaN   \n",
       "3370         5.245580       0.00536          1.30                  NaN   \n",
       "3371         0.680000       0.00000          2.20               4780.0   \n",
       "\n",
       "      orbital period  \n",
       "0         326.030000  \n",
       "1         516.220000  \n",
       "2         185.840000  \n",
       "3        1773.400000  \n",
       "4         798.500000  \n",
       "...              ...  \n",
       "3367        4.617033  \n",
       "3368      241.258000  \n",
       "3369     1276.460000  \n",
       "3370     3848.860000  \n",
       "3371      136.750000  \n",
       "\n",
       "[974 rows x 5 columns]"
      ]
     },
     "execution_count": 2,
     "metadata": {},
     "output_type": "execute_result"
    }
   ],
   "source": [
    "path = '/Users/maryrosejofelvillacampa/Desktop/datasets/exoplanets.csv'\n",
    "df = pd.read_csv(path)\n",
    "df = pd.DataFrame(df)\n",
    "\n",
    "df = df[[\"pl_orbsmax\", \"pl_orbeccen\", \"st_mass\", \"st_teff\", \"pl_orbper\"]]\n",
    "df.columns =[\"semi-major axis\", \"eccentricity\", \"stellar mass\", \"stellar temperature\", \"orbital period\"]\n",
    "df.dropna(subset=[\"eccentricity\"], inplace=True)\n",
    "df"
   ]
  },
  {
   "cell_type": "markdown",
   "metadata": {},
   "source": [
    "### Dataset exploration"
   ]
  },
  {
   "cell_type": "code",
   "execution_count": 3,
   "metadata": {},
   "outputs": [
    {
     "name": "stdout",
     "output_type": "stream",
     "text": [
      "The dataset has a dimension of 974 rows and 5 columns.\n",
      "\n",
      "The number of missing values per variable:\n",
      "semi-major axis        53\n",
      "eccentricity            0\n",
      "stellar mass           41\n",
      "stellar temperature    93\n",
      "orbital period          0\n",
      "dtype: int64\n"
     ]
    }
   ],
   "source": [
    "shape = df.shape\n",
    "print(f\"The dataset has a dimension of {shape[0]} rows and {shape[1]} columns.\")\n",
    "\n",
    "nulls = df.isnull().sum()\n",
    "print(\"\\nThe number of missing values per variable:\")\n",
    "print(nulls)"
   ]
  },
  {
   "cell_type": "code",
   "execution_count": 4,
   "metadata": {},
   "outputs": [
    {
     "data": {
      "image/png": "[encoded data removed]",
      "text/plain": [
       "<Figure size 1500x500 with 4 Axes>"
      ]
     },
     "metadata": {},
     "output_type": "display_data"
    }
   ],
   "source": [
    "plt.figure(figsize=(15, 5))\n",
    "\n",
    "plt.subplot(1,4,1)\n",
    "sns.histplot(x=df[\"semi-major axis\"])\n",
    "\n",
    "plt.subplot(1,4,2)\n",
    "sns.histplot(x=df[\"eccentricity\"])\n",
    "\n",
    "plt.subplot(1,4,3)\n",
    "sns.histplot(x=df[\"stellar mass\"])\n",
    "\n",
    "plt.subplot(1,4,4)\n",
    "sns.histplot(x=df[\"stellar temperature\"])\n",
    "\n",
    "plt.suptitle(\"Distribution of Predictors Before Imputation\")\n",
    "plt.tight_layout()\n",
    "plt.show()"
   ]
  },
  {
   "cell_type": "markdown",
   "metadata": {},
   "source": [
    "### Data cleaning"
   ]
  },
  {
   "cell_type": "code",
   "execution_count": 5,
   "metadata": {},
   "outputs": [
    {
     "name": "stdout",
     "output_type": "stream",
     "text": [
      "\n",
      "The number of missing values per variable:\n",
      "semi-major axis        0\n",
      "eccentricity           0\n",
      "stellar mass           0\n",
      "stellar temperature    0\n",
      "orbital period         0\n",
      "dtype: int64\n"
     ]
    }
   ],
   "source": [
    "med_sma = df[\"semi-major axis\"].median()\n",
    "df[\"semi-major axis\"] = df[\"semi-major axis\"].fillna(med_sma)\n",
    "\n",
    "med_sm = df[\"stellar mass\"].median()\n",
    "df[\"stellar mass\"] = df[\"stellar mass\"].fillna(med_sm)\n",
    "\n",
    "med_st = df[\"stellar temperature\"].median()\n",
    "df[\"stellar temperature\"] = df[\"stellar temperature\"].fillna(med_st)\n",
    "\n",
    "nulls = df.isnull().sum()\n",
    "print(\"\\nThe number of missing values per variable:\")\n",
    "print(nulls)"
   ]
  },
  {
   "cell_type": "markdown",
   "metadata": {},
   "source": [
    "### Checking assumptions"
   ]
  },
  {
   "cell_type": "code",
   "execution_count": 10,
   "metadata": {},
   "outputs": [
    {
     "data": {
      "image/png": "[encoded data removed]",
      "text/plain": [
       "<Figure size 1500x200 with 4 Axes>"
      ]
     },
     "metadata": {},
     "output_type": "display_data"
    }
   ],
   "source": [
    "plt.figure(figsize=(15,2))\n",
    "\n",
    "plt.subplot(1, 4, 1)\n",
    "sns.boxplot(x=df[\"eccentricity\"])\n",
    "\n",
    "plt.subplot(1, 4, 2)\n",
    "sns.boxplot(x=df[\"semi-major axis\"])\n",
    "\n",
    "plt.subplot(1,4,3)\n",
    "sns.boxplot(x=df[\"stellar mass\"])\n",
    "\n",
    "plt.subplot(1,4,4)\n",
    "sns.boxplot(x=df[\"stellar temperature\"])\n",
    "\n",
    "plt.suptitle(\"Outliers per Predictor Variable\")\n",
    "plt.show()"
   ]
  },
  {
   "cell_type": "code",
   "execution_count": 7,
   "metadata": {},
   "outputs": [
    {
     "data": {
      "text/html": [
       "<div>\n",
       "<style scoped>\n",
       "    .dataframe tbody tr th:only-of-type {\n",
       "        vertical-align: middle;\n",
       "    }\n",
       "\n",
       "    .dataframe tbody tr th {\n",
       "        vertical-align: top;\n",
       "    }\n",
       "\n",
       "    .dataframe thead th {\n",
       "        text-align: right;\n",
       "    }\n",
       "</style>\n",
       "<table border=\"1\" class=\"dataframe\">\n",
       "  <thead>\n",
       "    <tr style=\"text-align: right;\">\n",
       "      <th></th>\n",
       "      <th>semi-major axis</th>\n",
       "      <th>eccentricity</th>\n",
       "      <th>stellar mass</th>\n",
       "      <th>stellar temperature</th>\n",
       "    </tr>\n",
       "  </thead>\n",
       "  <tbody>\n",
       "    <tr>\n",
       "      <th>semi-major axis</th>\n",
       "      <td>1.000000</td>\n",
       "      <td>0.195680</td>\n",
       "      <td>0.129501</td>\n",
       "      <td>0.046027</td>\n",
       "    </tr>\n",
       "    <tr>\n",
       "      <th>eccentricity</th>\n",
       "      <td>0.195680</td>\n",
       "      <td>1.000000</td>\n",
       "      <td>0.028581</td>\n",
       "      <td>-0.003143</td>\n",
       "    </tr>\n",
       "    <tr>\n",
       "      <th>stellar mass</th>\n",
       "      <td>0.129501</td>\n",
       "      <td>0.028581</td>\n",
       "      <td>1.000000</td>\n",
       "      <td>0.013126</td>\n",
       "    </tr>\n",
       "    <tr>\n",
       "      <th>stellar temperature</th>\n",
       "      <td>0.046027</td>\n",
       "      <td>-0.003143</td>\n",
       "      <td>0.013126</td>\n",
       "      <td>1.000000</td>\n",
       "    </tr>\n",
       "  </tbody>\n",
       "</table>\n",
       "</div>"
      ],
      "text/plain": [
       "                     semi-major axis  eccentricity  stellar mass  \\\n",
       "semi-major axis             1.000000      0.195680      0.129501   \n",
       "eccentricity                0.195680      1.000000      0.028581   \n",
       "stellar mass                0.129501      0.028581      1.000000   \n",
       "stellar temperature         0.046027     -0.003143      0.013126   \n",
       "\n",
       "                     stellar temperature  \n",
       "semi-major axis                 0.046027  \n",
       "eccentricity                   -0.003143  \n",
       "stellar mass                    0.013126  \n",
       "stellar temperature             1.000000  "
      ]
     },
     "execution_count": 7,
     "metadata": {},
     "output_type": "execute_result"
    }
   ],
   "source": [
    "#checking correlation values between predictors to assess multicollinearity\n",
    "df_predictors = df[[\"semi-major axis\", \"eccentricity\", \"stellar mass\", \"stellar temperature\"]]\n",
    "df_predictors.corr()"
   ]
  },
  {
   "cell_type": "code",
   "execution_count": 152,
   "metadata": {},
   "outputs": [
    {
     "name": "stdout",
     "output_type": "stream",
     "text": [
      "               Feature       VIF\n",
      "0      semi-major axis  1.093542\n",
      "1         eccentricity  1.732976\n",
      "2         stellar mass  4.045366\n",
      "3  stellar temperature  3.808298\n"
     ]
    }
   ],
   "source": [
    "#performing Variance Inflation Factor to assess multicollinearity\n",
    "#optional since correlation variables are already calculated\n",
    "\n",
    "vif_data = pd.DataFrame()\n",
    "vif_data[\"Feature\"] = df_predictors.columns\n",
    "vif_data[\"VIF\"] = [variance_inflation_factor(df_predictors.values, i) for i in range(len(df_predictors.columns))]\n",
    "\n",
    "print(vif_data)"
   ]
  },
  {
   "cell_type": "markdown",
   "metadata": {},
   "source": [
    "### Data Transformation"
   ]
  },
  {
   "cell_type": "markdown",
   "metadata": {},
   "source": [
    "### Data processing"
   ]
  },
  {
   "cell_type": "code",
   "execution_count": 153,
   "metadata": {},
   "outputs": [
    {
     "data": {
      "text/html": [
       "<div>\n",
       "<style scoped>\n",
       "    .dataframe tbody tr th:only-of-type {\n",
       "        vertical-align: middle;\n",
       "    }\n",
       "\n",
       "    .dataframe tbody tr th {\n",
       "        vertical-align: top;\n",
       "    }\n",
       "\n",
       "    .dataframe thead th {\n",
       "        text-align: right;\n",
       "    }\n",
       "</style>\n",
       "<table border=\"1\" class=\"dataframe\">\n",
       "  <thead>\n",
       "    <tr style=\"text-align: right;\">\n",
       "      <th></th>\n",
       "      <th>semi-major axis</th>\n",
       "      <th>eccentricity</th>\n",
       "      <th>stellar mass</th>\n",
       "      <th>stellar temperature</th>\n",
       "    </tr>\n",
       "  </thead>\n",
       "  <tbody>\n",
       "    <tr>\n",
       "      <th>0</th>\n",
       "      <td>0.006180</td>\n",
       "      <td>0.307643</td>\n",
       "      <td>4.021553</td>\n",
       "      <td>-0.318321</td>\n",
       "    </tr>\n",
       "    <tr>\n",
       "      <th>1</th>\n",
       "      <td>0.048437</td>\n",
       "      <td>-0.463887</td>\n",
       "      <td>1.768782</td>\n",
       "      <td>-0.475389</td>\n",
       "    </tr>\n",
       "    <tr>\n",
       "      <th>2</th>\n",
       "      <td>-0.071572</td>\n",
       "      <td>-0.872644</td>\n",
       "      <td>2.770013</td>\n",
       "      <td>-0.290581</td>\n",
       "    </tr>\n",
       "    <tr>\n",
       "      <th>3</th>\n",
       "      <td>0.256340</td>\n",
       "      <td>1.012750</td>\n",
       "      <td>-0.483988</td>\n",
       "      <td>-0.096004</td>\n",
       "    </tr>\n",
       "    <tr>\n",
       "      <th>4</th>\n",
       "      <td>0.072269</td>\n",
       "      <td>2.606904</td>\n",
       "      <td>-0.258711</td>\n",
       "      <td>0.045826</td>\n",
       "    </tr>\n",
       "    <tr>\n",
       "      <th>...</th>\n",
       "      <td>...</td>\n",
       "      <td>...</td>\n",
       "      <td>...</td>\n",
       "      <td>...</td>\n",
       "    </tr>\n",
       "    <tr>\n",
       "      <th>969</th>\n",
       "      <td>-0.201855</td>\n",
       "      <td>-0.762791</td>\n",
       "      <td>0.517243</td>\n",
       "      <td>0.007927</td>\n",
       "    </tr>\n",
       "    <tr>\n",
       "      <th>970</th>\n",
       "      <td>-0.071949</td>\n",
       "      <td>0.453774</td>\n",
       "      <td>0.517243</td>\n",
       "      <td>0.007927</td>\n",
       "    </tr>\n",
       "    <tr>\n",
       "      <th>971</th>\n",
       "      <td>0.212949</td>\n",
       "      <td>0.653554</td>\n",
       "      <td>0.517243</td>\n",
       "      <td>0.007927</td>\n",
       "    </tr>\n",
       "    <tr>\n",
       "      <th>972</th>\n",
       "      <td>0.674780</td>\n",
       "      <td>-0.845257</td>\n",
       "      <td>0.517243</td>\n",
       "      <td>0.007927</td>\n",
       "    </tr>\n",
       "    <tr>\n",
       "      <th>973</th>\n",
       "      <td>-0.096926</td>\n",
       "      <td>-0.872644</td>\n",
       "      <td>2.770013</td>\n",
       "      <td>-0.303474</td>\n",
       "    </tr>\n",
       "  </tbody>\n",
       "</table>\n",
       "<p>974 rows × 4 columns</p>\n",
       "</div>"
      ],
      "text/plain": [
       "     semi-major axis  eccentricity  stellar mass  stellar temperature\n",
       "0           0.006180      0.307643      4.021553            -0.318321\n",
       "1           0.048437     -0.463887      1.768782            -0.475389\n",
       "2          -0.071572     -0.872644      2.770013            -0.290581\n",
       "3           0.256340      1.012750     -0.483988            -0.096004\n",
       "4           0.072269      2.606904     -0.258711             0.045826\n",
       "..               ...           ...           ...                  ...\n",
       "969        -0.201855     -0.762791      0.517243             0.007927\n",
       "970        -0.071949      0.453774      0.517243             0.007927\n",
       "971         0.212949      0.653554      0.517243             0.007927\n",
       "972         0.674780     -0.845257      0.517243             0.007927\n",
       "973        -0.096926     -0.872644      2.770013            -0.303474\n",
       "\n",
       "[974 rows x 4 columns]"
      ]
     },
     "execution_count": 153,
     "metadata": {},
     "output_type": "execute_result"
    }
   ],
   "source": [
    "x_features = df[[\"semi-major axis\", \"eccentricity\", \"stellar mass\", \"stellar temperature\"]]\n",
    "y_features = df[\"orbital period\"]\n",
    "\n",
    "scaledx_data = scale.fit_transform(x_features)\n",
    "scaledx_data = pd.DataFrame(scaledx_data, columns=[\"semi-major axis\", \"eccentricity\", \"stellar mass\", \"stellar temperature\"])\n",
    "scaledx_data"
   ]
  },
  {
   "cell_type": "code",
   "execution_count": 154,
   "metadata": {},
   "outputs": [],
   "source": [
    "# categorizing orbital period ranges into 3\n",
    "for x in y_features:\n",
    "    if x >= 0 and x < 11:\n",
    "        y_features.replace(x, \"short\", inplace=True)\n",
    "    elif x >= 11 and x <= 100:\n",
    "        y_features.replace(x, \"medium\", inplace=True)\n",
    "    elif x > 100:\n",
    "        y_features.replace(x, \"long\", inplace=True)\n",
    "\n",
    "x_train, x_test, y_train, y_test = train_test_split(scaledx_data, y_features, test_size=0.20, random_state=42)"
   ]
  },
  {
   "cell_type": "code",
   "execution_count": 155,
   "metadata": {},
   "outputs": [
    {
     "name": "stdout",
     "output_type": "stream",
     "text": [
      "['long' 'short' 'medium']\n"
     ]
    }
   ],
   "source": [
    "print(y_features.unique())"
   ]
  },
  {
   "cell_type": "markdown",
   "metadata": {},
   "source": [
    "### Data modeling"
   ]
  },
  {
   "cell_type": "code",
   "execution_count": 156,
   "metadata": {},
   "outputs": [],
   "source": [
    "model = LogisticRegression(solver=\"lbfgs\")\n",
    "model.fit(x_train, y_train)\n",
    "\n",
    "y_pred = model.predict(x_test)"
   ]
  },
  {
   "cell_type": "code",
   "execution_count": 157,
   "metadata": {},
   "outputs": [
    {
     "name": "stdout",
     "output_type": "stream",
     "text": [
      "Model accuracy: 0.7743589743589744\n"
     ]
    }
   ],
   "source": [
    "model_acc = model.score(x_test, y_test)\n",
    "print(f\"Model accuracy: {model_acc}\")"
   ]
  },
  {
   "cell_type": "code",
   "execution_count": 158,
   "metadata": {},
   "outputs": [
    {
     "data": {
      "text/plain": [
       "semi-major axis        0\n",
       "eccentricity           0\n",
       "stellar mass           0\n",
       "stellar temperature    0\n",
       "orbital period         0\n",
       "dtype: int64"
      ]
     },
     "execution_count": 158,
     "metadata": {},
     "output_type": "execute_result"
    }
   ],
   "source": [
    "df.isnull().sum()"
   ]
  },
  {
   "cell_type": "markdown",
   "metadata": {},
   "source": [
    "### Hyperparameter tuning"
   ]
  },
  {
   "cell_type": "code",
   "execution_count": 159,
   "metadata": {},
   "outputs": [],
   "source": [
    "param_grid = [{\n",
    "    'penalty': ['l1', 'l2'],\n",
    "    'C': [0.01, 0.1, 1, 10, 100],\n",
    "    'solver': ['saga'],\n",
    "    'max_iter': [5000]\n",
    "}]\n",
    "\n",
    "model = LogisticRegression() # create the regression object, again... Just to be sure TT\n",
    "grid_search = GridSearchCV(estimator=model, param_grid=param_grid, scoring='accuracy', cv=5, error_score='raise')\n",
    "grid_search.fit(x_train, y_train)\n",
    "\n",
    "best_model = grid_search.best_estimator_\n",
    "y_pred = best_model.predict(x_test)"
   ]
  },
  {
   "cell_type": "code",
   "execution_count": 160,
   "metadata": {},
   "outputs": [
    {
     "name": "stdout",
     "output_type": "stream",
     "text": [
      "The best model has the following combinations: LogisticRegression(C=100, max_iter=5000, penalty='l1', solver='saga')\n",
      "Best model accuracy: 0.8666666666666667\n"
     ]
    }
   ],
   "source": [
    "accuracy = best_model.score(x_test, y_test)\n",
    "print(f\"The best model has the following combinations: {best_model}\")\n",
    "print(f\"Best model accuracy: {accuracy}\")"
   ]
  }
 ],
 "metadata": {
  "colab": {
   "provenance": []
  },
  "kernelspec": {
   "display_name": "base",
   "language": "python",
   "name": "python3"
  },
  "language_info": {
   "codemirror_mode": {
    "name": "ipython",
    "version": 3
   },
   "file_extension": ".py",
   "mimetype": "text/x-python",
   "name": "python",
   "nbconvert_exporter": "python",
   "pygments_lexer": "ipython3",
   "version": "3.10.9"
  }
 },
 "nbformat": 4,
 "nbformat_minor": 0
}
